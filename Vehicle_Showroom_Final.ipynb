{
  "nbformat": 4,
  "nbformat_minor": 0,
  "metadata": {
    "colab": {
      "name": "Vehicle Showroom Final.ipynb",
      "provenance": [],
      "collapsed_sections": [],
      "authorship_tag": "ABX9TyPBc6NMkQZwBeD4q2mEoeed",
      "include_colab_link": true
    },
    "kernelspec": {
      "name": "python3",
      "display_name": "Python 3"
    }
  },
  "cells": [
    {
      "cell_type": "markdown",
      "metadata": {
        "id": "view-in-github",
        "colab_type": "text"
      },
      "source": [
        "<a href=\"https://colab.research.google.com/github/innipie/Vehicle_Showroom/blob/main/Vehicle_Showroom_Final.ipynb\" target=\"_parent\"><img src=\"https://colab.research.google.com/assets/colab-badge.svg\" alt=\"Open In Colab\"/></a>"
      ]
    },
    {
      "cell_type": "code",
      "metadata": {
        "id": "x5XBnxatARtb"
      },
      "source": [
        "class Vehicle:\r\n",
        "\r\n",
        "  def __init__(self):\r\n",
        "      self._model = input('Enter vehicle model: ')\r\n",
        "      self._engine_power = int(input('Enter engine power: '))\r\n",
        "      self._tire_size = int(input('Enter vehicle tire size: '))\r\n",
        "    \r\n",
        "  def display(self): \r\n",
        "    print(f\"model: {self._model}, power: {self._engine_power} , tire size: {self._tire_size},\", end = \" \")    \r\n",
        "\r\n",
        "class NormalVehicle(Vehicle):\r\n",
        "  _vehicle_type = \"normal\"\r\n",
        "  def __init__(self):\r\n",
        "    Vehicle.__init__(self)\r\n",
        "    self._engine_type = input('Enter vehicle engine type ( oil or gas or diesel): ')\r\n",
        "  def display(self): \r\n",
        "    Vehicle.display(self)\r\n",
        "    print(f\"vehicle: {self._vehicle_type}, engine type: {self._engine_type}\")  \r\n",
        "\r\n",
        "\r\n",
        "class SportsVehicle(Vehicle):\r\n",
        "  _vehicle_type = \"sports\"\r\n",
        "  _engine_type = \"oil\"\r\n",
        "  def __init__(self):\r\n",
        "    Vehicle.__init__(self)\r\n",
        "    self._turbo = input('Enter turbo: ')\r\n",
        "  def display(self): \r\n",
        "    Vehicle.display(self)\r\n",
        "    print(f\"vehicle: {self._vehicle_type}, engine type: {self._engine_type}, turbo: {self._turbo} \")     \r\n",
        "\r\n",
        "class HeavyVehicle(Vehicle):\r\n",
        "  _engine_type = \"diesel\"\r\n",
        "  _vehicle_type = \"heavy\"\r\n",
        "  def __init__(self):\r\n",
        "    Vehicle.__init__(self)\r\n",
        "    self._weight = input('Enter weight: ')\r\n",
        "  def display(self): \r\n",
        "    Vehicle.display(self)\r\n",
        "    print(f\"vehicle: {self._vehicle_type}, engine type: {self._engine_type}, weight: {self._weight} \")    \r\n",
        "\r\n",
        "class VehicleShowroom:\r\n",
        "  vehicles_list = []\r\n",
        "  expected_visitor = 20\r\n",
        "\r\n",
        "  def add_vehicles(self, type):\r\n",
        "    if type == \"normal\":\r\n",
        "      self.vehicles_list.append(NormalVehicle())\r\n",
        "    elif type == \"sports\":\r\n",
        "      self.vehicles_list.append(SportsVehicle())\r\n",
        "      self.expected_visitor += 30\r\n",
        "    else:\r\n",
        "      self.vehicles_list.append(HeavyVehicle())\r\n",
        "\r\n",
        "  def remove_vehicles(self, model):\r\n",
        "    for i in range(len(self.vehicles_list)):\r\n",
        "      if(self.vehicles_list[i]._model == model):\r\n",
        "        del self.vehicles_list[i]\r\n",
        "        break\r\n",
        "\r\n",
        "  def display_vehicles(self):\r\n",
        "    for i in range(len(self.vehicles_list)):\r\n",
        "      self.vehicles_list[i].display()\r\n",
        "    print(f\" expected visitor {self.expected_visitor}\")\r\n",
        "\r\n",
        " \r\n"
      ],
      "execution_count": null,
      "outputs": []
    },
    {
      "cell_type": "code",
      "metadata": {
        "id": "u35xo3YtDe3R"
      },
      "source": [
        "VehicleShowroom = VehicleShowroom()\r\n",
        "\r\n",
        " "
      ],
      "execution_count": null,
      "outputs": []
    },
    {
      "cell_type": "markdown",
      "metadata": {
        "id": "IfayRWSYFfwK"
      },
      "source": [
        "Start"
      ]
    },
    {
      "cell_type": "code",
      "metadata": {
        "colab": {
          "base_uri": "https://localhost:8080/"
        },
        "id": "ZasmBysgFeyQ",
        "outputId": "9f6769f0-22c0-4fd5-cf7d-c4b69dd7181e"
      },
      "source": [
        "while True:\r\n",
        "\r\n",
        "    print('Choice 1: Add Vehicle to showroom')\r\n",
        "    print('Choice 2: Remove Vehicle from showroom')\r\n",
        "    print('Choice 3: View Current List Of Vehicles')\r\n",
        "    print('Choice 4: Quit')\r\n",
        "    User_Choice=input('Please Enter your Choice from one of the above options: ')\r\n",
        "\r\n",
        "    if User_Choice== \"1\":\r\n",
        "      print('What is your vehicle type?')\r\n",
        "      print('i.Normal Vehicle')\r\n",
        "      print('ii. Sports vehicle')\r\n",
        "      print('iii.Heavy Vehicle')\r\n",
        "      type_choice=input('Enter the type of vehicle: ')\r\n",
        "\r\n",
        "      if type_choice== \"i\":\r\n",
        "        VehicleShowroom.add_vehicles(\"normal\")\r\n",
        "      elif type_choice== \"ii\":\r\n",
        "        VehicleShowroom.add_vehicles(\"sports\")\r\n",
        "      elif type_choice==\"iii\":\r\n",
        "        VehicleShowroom.add_vehicles(\"heavy\")  \r\n",
        "    if User_Choice== \"3\":\r\n",
        "      VehicleShowroom.display_vehicles()    \r\n",
        "    \r\n",
        "    if User_Choice== \"2\":\r\n",
        "      print(\"Enter model of vehicle to be deleted\")\r\n",
        "      modell=input()\r\n",
        "      VehicleShowroom.remove_vehicles(modell)\r\n",
        "\r\n",
        "    if User_Choice==\"4\":\r\n",
        "      print('Goodbye')\r\n",
        "      break\r\n",
        "    else:\r\n",
        "      print('Invalid Input')  \r\n"
      ],
      "execution_count": null,
      "outputs": [
        {
          "output_type": "stream",
          "text": [
            "Choice 1: Add Vehicle to showroom\n",
            "Choice 2: Remove Vehicle from showroom\n",
            "Choice 3: View Current List Of Vehicles\n",
            "Choice 4: Quit\n",
            "Please Enter your Choice from one of the above options: 7\n",
            "Invalid Input\n",
            "Choice 1: Add Vehicle to showroom\n",
            "Choice 2: Remove Vehicle from showroom\n",
            "Choice 3: View Current List Of Vehicles\n",
            "Choice 4: Quit\n",
            "Please Enter your Choice from one of the above options: 4\n",
            "Goodbye\n"
          ],
          "name": "stdout"
        }
      ]
    }
  ]
}